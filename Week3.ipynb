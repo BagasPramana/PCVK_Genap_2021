{
  "nbformat": 4,
  "nbformat_minor": 0,
  "metadata": {
    "colab": {
      "name": "Week3.ipynb",
      "provenance": [],
      "authorship_tag": "ABX9TyPcX/s5gKy3QgyTArdL2p+Y",
      "include_colab_link": true
    },
    "kernelspec": {
      "name": "python3",
      "display_name": "Python 3"
    }
  },
  "cells": [
    {
      "cell_type": "markdown",
      "metadata": {
        "id": "view-in-github",
        "colab_type": "text"
      },
      "source": [
        "<a href=\"https://colab.research.google.com/github/BagasPramana/PCVK_Genap_2021/blob/main/Week3.ipynb\" target=\"_parent\"><img src=\"https://colab.research.google.com/assets/colab-badge.svg\" alt=\"Open In Colab\"/></a>"
      ]
    },
    {
      "cell_type": "code",
      "metadata": {
        "id": "zcbnH2xRgt6B",
        "outputId": "8af657af-0fe0-48fb-e070-da6ae114ad6a",
        "colab": {
          "base_uri": "https://localhost:8080/"
        }
      },
      "source": [
        "from google.colab import drive \r\n",
        "drive.mount('/content/drive')"
      ],
      "execution_count": 3,
      "outputs": [
        {
          "output_type": "stream",
          "text": [
            "Drive already mounted at /content/drive; to attempt to forcibly remount, call drive.mount(\"/content/drive\", force_remount=True).\n"
          ],
          "name": "stdout"
        }
      ]
    },
    {
      "cell_type": "code",
      "metadata": {
        "id": "hILH0-PUiBzl"
      },
      "source": [
        "import cv2 as cv\r\n",
        "from google.colab.patches import cv2_imshow\r\n",
        "from skimage import io\r\n",
        "import matplotlib.pyplot as plt"
      ],
      "execution_count": 10,
      "outputs": []
    },
    {
      "cell_type": "code",
      "metadata": {
        "id": "0Jp8BSmaiVUQ",
        "outputId": "0a93a7c7-d783-41bd-cf13-2ac435523162",
        "colab": {
          "base_uri": "https://localhost:8080/"
        }
      },
      "source": [
        "print(' Mengubah tingkat kecerahan citra')\r\n",
        "print('---------------------------------')\r\n",
        "try:\r\n",
        "    brightness = int(input('Masukkan nilai kecerahan: '))\r\n",
        "except ValueError:\r\n",
        "    print('Error, not a number')\r\n",
        "\r\n",
        "original = cv.imread('/content/drive/MyDrive/PCVK/female.tiff')\r\n",
        "brightness_image = np.zeros(original.shape, original.dtype)\r\n",
        "\r\n",
        "#akses per piksel\r\n",
        "for y in range(original.shape[0]):\r\n",
        "  for x in range(original.shape[1]):\r\n",
        "    for c in range(original.shape[2]):\r\n",
        "      brightness_image[y,x,c] = np.clip(original[y,x,c] + brightness, 0, 255)\r\n",
        "\r\n",
        "final_frame = cv.hconcat((original, brightness_image))\r\n",
        "cv2_imshow(final_frame)"
      ],
      "execution_count": null,
      "outputs": [
        {
          "output_type": "stream",
          "text": [
            " Mengubah tingkat kecerahan citra\n",
            "---------------------------------\n"
          ],
          "name": "stdout"
        }
      ]
    },
    {
      "cell_type": "code",
      "metadata": {
        "id": "C9zhaHgGlEGL"
      },
      "source": [
        "new_image = np.zeros(image.shape, image.dtype)\r\n",
        "\r\n",
        "print(' Mengubah kontras dan tingkat kecerahan citra')\r\n",
        "print('---------------------------------')\r\n",
        "\r\n",
        "try:\r\n",
        "  brightness = int(input('Masukkan tingkat kecerahan[-255 - 255]: ')) \r\n",
        "  contrast = float(input('Masukkan kontras [1.0-3.0]: '))\r\n",
        "except ValueError: \r\n",
        "  print('Error, not a number')\r\n",
        "\r\n",
        "for y in range(image.shape[0]):\r\n",
        "  for x in range(image.shape[1]):\r\n",
        "    for c in range(image.shape[2]):\r\n",
        "      new_image[y,x,c] = np.clip(contrast*image[y,x,c] + brightness,0, 255)\r\n",
        "\r\n",
        "plt.imshow(image)\r\n",
        "cv2 imshow(cv.cvtColor(new image,cv.COLOR BGR2RGB))"
      ],
      "execution_count": null,
      "outputs": []
    }
  ]
}